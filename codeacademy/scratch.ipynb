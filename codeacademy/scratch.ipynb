{
 "cells": [
  {
   "cell_type": "code",
   "execution_count": 4,
   "metadata": {},
   "outputs": [
    {
     "name": "stdout",
     "output_type": "stream",
     "text": [
      "{'name': 'Chrisley', 'age': 15, 'grades': []}\n",
      "{'name': 'Dallas', 'age': 16, 'grades': []}\n",
      "[90]\n",
      "[90, 100]\n",
      "{'name': 'Chrisley', 'age': 15, 'grades': [90, 100]}\n",
      "{'name': 'Dallas', 'age': 16, 'grades': [90, 100]}\n"
     ]
    }
   ],
   "source": [
    "def createStudent(name, age, grades=[]):\n",
    "    return {\n",
    "        'name': name,\n",
    "        'age': age,\n",
    "        'grades': grades\n",
    "    }\n",
    "\n",
    "chrisley = createStudent('Chrisley', 15)\n",
    "print (chrisley)\n",
    "dallas = createStudent('Dallas', 16)\n",
    "print (dallas)\n",
    "\n",
    "def addGrade(student, grade):\n",
    "    student['grades'].append(grade)\n",
    "    # To help visualize the grades we have added a print statement\n",
    "    print(student['grades'])\n",
    "\n",
    "addGrade(chrisley, 90)\n",
    "addGrade(dallas, 100)\n",
    "\n",
    "print (chrisley)\n",
    "print (dallas)"
   ]
  },
  {
   "cell_type": "code",
   "execution_count": 5,
   "metadata": {},
   "outputs": [
    {
     "name": "stdout",
     "output_type": "stream",
     "text": [
      "Name: Chrisley, Age: 15, Grades: [90]\n",
      "Name: Dallas, Age: 16, Grades: [100]\n"
     ]
    }
   ],
   "source": [
    "class Student:\n",
    "    def __init__(self, name, age):\n",
    "        self.name = name\n",
    "        self.age = age\n",
    "        self.grades = []\n",
    "\n",
    "    def add_grade(self, grade):\n",
    "        self.grades.append(grade)\n",
    "\n",
    "    def display_info(self):\n",
    "        print(f\"Name: {self.name}, Age: {self.age}, Grades: {self.grades}\")\n",
    "\n",
    "# Example usage:\n",
    "chrisley = Student('Chrisley', 15)\n",
    "dallas = Student('Dallas', 16)\n",
    "\n",
    "chrisley.add_grade(90)\n",
    "dallas.add_grade(100)\n",
    "\n",
    "chrisley.display_info()\n",
    "dallas.display_info()"
   ]
  }
 ],
 "metadata": {
  "kernelspec": {
   "display_name": "Python 3",
   "language": "python",
   "name": "python3"
  },
  "language_info": {
   "codemirror_mode": {
    "name": "ipython",
    "version": 3
   },
   "file_extension": ".py",
   "mimetype": "text/x-python",
   "name": "python",
   "nbconvert_exporter": "python",
   "pygments_lexer": "ipython3",
   "version": "3.10.13"
  }
 },
 "nbformat": 4,
 "nbformat_minor": 2
}
